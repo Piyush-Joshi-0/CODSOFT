{
 "cells": [
  {
   "cell_type": "code",
   "execution_count": null,
   "metadata": {},
   "outputs": [],
   "source": []
  },
  {
   "cell_type": "code",
   "execution_count": null,
   "metadata": {
    "id": "GRIur4wb82J5"
   },
   "outputs": [],
   "source": [
    "# Importing required libraries\n",
    "\n",
    "import numpy as np\n",
    "import pandas as pd\n",
    "pd.set_option('display.max_rows',1000)\n",
    "import matplotlib.pyplot as plt\n",
    "import seaborn as sns\n",
    "%matplotlib inline"
   ]
  },
  {
   "cell_type": "code",
   "execution_count": null,
   "metadata": {
    "colab": {
     "base_uri": "https://localhost:8080/",
     "height": 513
    },
    "id": "-n2drujO9rkO",
    "outputId": "12da8b36-7655-404d-a025-9fa58a4a12bd"
   },
   "outputs": [],
   "source": [
    "# Reading the train and test dataset\n",
    "\n",
    "df_train = pd.read_csv('fraudTrain.csv')\n",
    "df_test = pd.read_csv('fraudTest.csv')\n",
    "df_train.head()"
   ]
  },
  {
   "cell_type": "markdown",
   "metadata": {
    "id": "l9SplcbHCGAj"
   },
   "source": [
    "#### Exploratory Data Analysis"
   ]
  },
  {
   "cell_type": "code",
   "execution_count": null,
   "metadata": {
    "colab": {
     "base_uri": "https://localhost:8080/"
    },
    "id": "fIh8DBUT_BQM",
    "outputId": "6236261e-5374-4946-f458-7d8ec95c1fa6"
   },
   "outputs": [],
   "source": [
    "print(df_train.shape)\n",
    "print(df_test.shape)"
   ]
  },
  {
   "cell_type": "code",
   "execution_count": null,
   "metadata": {
    "colab": {
     "base_uri": "https://localhost:8080/"
    },
    "id": "3mTimM6QCQKw",
    "outputId": "594e6e94-186a-4bb1-a084-dded8b91ef71"
   },
   "outputs": [],
   "source": [
    "df_train.info()"
   ]
  },
  {
   "cell_type": "code",
   "execution_count": null,
   "metadata": {
    "colab": {
     "base_uri": "https://localhost:8080/"
    },
    "id": "AIYZErNACYMY",
    "outputId": "04750066-573e-454c-edc2-e95c729dd0a5"
   },
   "outputs": [],
   "source": [
    "df_test.info()"
   ]
  },
  {
   "cell_type": "code",
   "execution_count": null,
   "metadata": {
    "colab": {
     "base_uri": "https://localhost:8080/",
     "height": 496
    },
    "id": "MsGOO4cWjOtl",
    "outputId": "0387fe74-e975-45b0-9544-b4548eaa5e58"
   },
   "outputs": [],
   "source": [
    "# Dropping Unnamed column\n",
    "\n",
    "df_train.drop(\"Unnamed: 0\",axis=1,inplace=True)\n",
    "df_test.drop(\"Unnamed: 0\",axis=1,inplace=True)\n",
    "df_train.head()"
   ]
  },
  {
   "cell_type": "code",
   "execution_count": null,
   "metadata": {
    "colab": {
     "base_uri": "https://localhost:8080/",
     "height": 496
    },
    "id": "k_i-Yoo0MBzK",
    "outputId": "7e923b7e-f4d3-48cb-93aa-690c82fb8392"
   },
   "outputs": [],
   "source": [
    "# Converting date columns to datetime format\n",
    "\n",
    "df_train['trans_date_trans_time']=pd.to_datetime(df_train['trans_date_trans_time'])\n",
    "df_train['trans_date']=df_train['trans_date_trans_time'].dt.strftime('%Y-%m-%d')\n",
    "df_train['trans_date']=pd.to_datetime(df_train['trans_date'])\n",
    "df_train['dob']=pd.to_datetime(df_train['dob'])\n",
    "\n",
    "df_test['trans_date_trans_time']=pd.to_datetime(df_test['trans_date_trans_time'])\n",
    "df_test['trans_date']=df_test['trans_date_trans_time'].dt.strftime('%Y-%m-%d')\n",
    "df_test['trans_date']=pd.to_datetime(df_test['trans_date'])\n",
    "df_test['dob']=pd.to_datetime(df_test['dob'])\n",
    "\n",
    "df_train.head()"
   ]
  },
  {
   "cell_type": "code",
   "execution_count": null,
   "metadata": {
    "colab": {
     "base_uri": "https://localhost:8080/"
    },
    "id": "jEKXFkwSNsIw",
    "outputId": "ddf87c5e-0420-45e1-bcbe-6931027ef0a2"
   },
   "outputs": [],
   "source": [
    "df_train.info()"
   ]
  },
  {
   "cell_type": "code",
   "execution_count": null,
   "metadata": {
    "colab": {
     "base_uri": "https://localhost:8080/"
    },
    "id": "SpmerFX4V_v1",
    "outputId": "7c323212-94a3-4bca-d3f7-65954ff50d2c"
   },
   "outputs": [],
   "source": [
    "df_test.info()"
   ]
  },
  {
   "cell_type": "code",
   "execution_count": null,
   "metadata": {
    "colab": {
     "base_uri": "https://localhost:8080/"
    },
    "id": "NIjA9ufTDfZU",
    "outputId": "46b3d7c8-c473-4ad1-a9ab-810b7e4e6256"
   },
   "outputs": [],
   "source": [
    "# Dropping fields not necessary for model building\n",
    "\n",
    "drop_cols = ['cc_num','merchant','first','last','street','zip','trans_num','unix_time']\n",
    "\n",
    "df_train1 = df_train.drop(drop_cols,axis=1)\n",
    "df_test1 = df_test.drop(drop_cols,axis=1)\n",
    "\n",
    "df_train1.info()"
   ]
  },
  {
   "cell_type": "code",
   "execution_count": null,
   "metadata": {
    "colab": {
     "base_uri": "https://localhost:8080/",
     "height": 281
    },
    "id": "Pv1BJu71HoaF",
    "outputId": "e9752516-28ad-4058-a524-07592c36b464"
   },
   "outputs": [],
   "source": [
    "# Checking Class Imbalance\n",
    "\n",
    "classes_train=df_train1['is_fraud'].value_counts()\n",
    "normal_share_train=classes_train[0]/df_train1['is_fraud'].count()*100\n",
    "fraud_share_train=classes_train[1]/df_train1['is_fraud'].count()*100\n",
    "\n",
    "classes_test=df_test1['is_fraud'].value_counts()\n",
    "normal_share_test=classes_test[0]/df_test1['is_fraud'].count()*100\n",
    "fraud_share_test=classes_test[1]/df_test1['is_fraud'].count()*100\n",
    "\n",
    "plt.subplot(2,1,1)\n",
    "plt.bar(['Non-Fraud','Fraud'], classes_train, color=['y','b'])\n",
    "plt.title('Train')\n",
    "plt.ylabel('Number of transactions')\n",
    "plt.annotate(\"{0:.4}%\".format(normal_share_train),(0.2, 0.5), xycoords='axes fraction')\n",
    "plt.annotate(\"{0:.4}%\".format(fraud_share_train),(0.7, 0.5), xycoords='axes fraction')\n",
    "\n",
    "plt.subplot(2,1,2)\n",
    "plt.bar(['Non-Fraud','Fraud'], classes_test, color=['y','b'])\n",
    "plt.title('Test')\n",
    "plt.ylabel('Number of transactions')\n",
    "plt.annotate(\"{0:.4}%\".format(normal_share_test),(0.2, 0.5), xycoords='axes fraction')\n",
    "plt.annotate(\"{0:.4}%\".format(fraud_share_test),(0.7, 0.5), xycoords='axes fraction')\n",
    "\n",
    "plt.show()"
   ]
  },
  {
   "cell_type": "code",
   "execution_count": null,
   "metadata": {
    "colab": {
     "base_uri": "https://localhost:8080/",
     "height": 204
    },
    "id": "bM77irOFKgXt",
    "outputId": "6d560c1a-9bb5-4ccb-920a-5538652a6bef"
   },
   "outputs": [],
   "source": [
    "# Creating field for age on transaction date\n",
    "df_train1['age_at_trans'] = (df_train1['trans_date'] - df_train1['dob']).dt.days // 365.25\n",
    "df_test1['age_at_trans'] = (df_test1['trans_date'] - df_test1['dob']).dt.days // 365.25\n",
    "\n",
    "df_train1.head()\n",
    "df_train1.info()\n",
    "df_test1.info()"
   ]
  },
  {
   "cell_type": "code",
   "execution_count": null,
   "metadata": {
    "colab": {
     "base_uri": "https://localhost:8080/"
    },
    "id": "g1a-9EpbZE-D",
    "outputId": "a38114f5-9ac4-4c0f-f152-e330260ea5d8"
   },
   "outputs": [],
   "source": [
    "df_train1.info()"
   ]
  },
  {
   "cell_type": "code",
   "execution_count": null,
   "metadata": {
    "colab": {
     "base_uri": "https://localhost:8080/"
    },
    "id": "myXsBAyRZMFW",
    "outputId": "4a4f4654-aa4a-4aab-f679-65ac8a32fb69"
   },
   "outputs": [],
   "source": [
    "df_test1.info()"
   ]
  },
  {
   "cell_type": "code",
   "execution_count": null,
   "metadata": {
    "colab": {
     "base_uri": "https://localhost:8080/"
    },
    "id": "9WtPb-xebYRi",
    "outputId": "d2c9b57a-47a7-4ca3-97c3-d519f2c05108"
   },
   "outputs": [],
   "source": [
    "fraud_city = pd.DataFrame(df_train1.groupby('city')['is_fraud'].sum())\n",
    "fraud_city = fraud_city[fraud_city['is_fraud']>0]\n",
    "fraud_city.index"
   ]
  },
  {
   "cell_type": "code",
   "execution_count": null,
   "metadata": {
    "colab": {
     "base_uri": "https://localhost:8080/"
    },
    "id": "7eHQE9DadG9v",
    "outputId": "df002cf8-4a3a-4e5a-adb8-8acbfa12f03e"
   },
   "outputs": [],
   "source": [
    "fraud_state = pd.DataFrame(df_train1.groupby('state')['is_fraud'].sum())\n",
    "fraud_state = fraud_state[fraud_state['is_fraud']>0]\n",
    "fraud_state.index"
   ]
  },
  {
   "cell_type": "code",
   "execution_count": null,
   "metadata": {
    "colab": {
     "base_uri": "https://localhost:8080/"
    },
    "id": "JBDKxE91Xu3I",
    "outputId": "279b9799-781a-4f7e-e727-a940f155ab64"
   },
   "outputs": [],
   "source": [
    "fraud_job = pd.DataFrame(df_train1.groupby('job')['is_fraud'].sum())\n",
    "fraud_job = fraud_job[fraud_job['is_fraud']>0]\n",
    "fraud_job.index"
   ]
  },
  {
   "cell_type": "code",
   "execution_count": null,
   "metadata": {
    "colab": {
     "base_uri": "https://localhost:8080/",
     "height": 204
    },
    "id": "ZOYzOLZMgLaf",
    "outputId": "f9794415-1628-4375-f4f8-a06b43155bd1"
   },
   "outputs": [],
   "source": [
    "# Finding distance from customer location to merchant location in degrees latitude and degrees longitude\n",
    "\n",
    "df_train1['lat_dist'] = abs(round(df_train1['merch_lat']-df_train1['lat'],3))\n",
    "df_train1['long_dist'] = abs(round(df_train1['merch_long']-df_train1['long'],3))\n",
    "\n",
    "df_test1['lat_dist'] = abs(round(df_test1['merch_lat']-df_test1['lat'],3))\n",
    "df_test1['long_dist'] = abs(round(df_test1['merch_long']-df_test1['long'],3))\n",
    "\n",
    "df_train1[['merch_lat','lat','lat_dist','merch_long','long','long_dist']].head()"
   ]
  },
  {
   "cell_type": "code",
   "execution_count": null,
   "metadata": {
    "colab": {
     "base_uri": "https://localhost:8080/"
    },
    "id": "oioXvCRbV53e",
    "outputId": "05753801-0b52-432d-f30f-a4516e898c56"
   },
   "outputs": [],
   "source": [
    "df_train1.info()"
   ]
  },
  {
   "cell_type": "code",
   "execution_count": null,
   "metadata": {
    "colab": {
     "base_uri": "https://localhost:8080/",
     "height": 204
    },
    "id": "Z5ltaNXrfbIZ",
    "outputId": "89f155e8-8d0f-4c07-9343-e763d1232c78"
   },
   "outputs": [],
   "source": [
    "# Creating month column\n",
    "\n",
    "df_train1['trans_month'] = pd.DatetimeIndex(df_train1['trans_date']).month\n",
    "df_test1['trans_month'] = pd.DatetimeIndex(df_test1['trans_date']).month\n",
    "\n",
    "df_train1[['trans_date_trans_time','trans_month']].head()"
   ]
  },
  {
   "cell_type": "code",
   "execution_count": null,
   "metadata": {
    "colab": {
     "base_uri": "https://localhost:8080/"
    },
    "id": "YyWhzyUap7O2",
    "outputId": "3f282569-8c1f-4bcd-b31d-49919de5e03a"
   },
   "outputs": [],
   "source": [
    "df_train1.info()"
   ]
  },
  {
   "cell_type": "code",
   "execution_count": null,
   "metadata": {
    "colab": {
     "base_uri": "https://localhost:8080/"
    },
    "id": "YvAM7lhrMqNK",
    "outputId": "0d0c82b8-6e3d-4ee1-a898-fd3a9ccf57de"
   },
   "outputs": [],
   "source": [
    "df_train1.nunique()"
   ]
  },
  {
   "cell_type": "code",
   "execution_count": null,
   "metadata": {
    "colab": {
     "base_uri": "https://localhost:8080/"
    },
    "id": "n6LA7nEdM7YK",
    "outputId": "a8895de8-d905-4465-9a02-3bd2d14ffa9e"
   },
   "outputs": [],
   "source": [
    "df_test1.nunique()"
   ]
  },
  {
   "cell_type": "markdown",
   "metadata": {
    "id": "9hhyhrxDLl3H"
   },
   "source": [
    "#### Checking if there are any highly skewed categorical variables"
   ]
  },
  {
   "cell_type": "code",
   "execution_count": null,
   "metadata": {
    "colab": {
     "base_uri": "https://localhost:8080/"
    },
    "id": "f1hKjuopGyKt",
    "outputId": "9edcc1ee-b8f7-41a2-fb06-40d79ef33e3a"
   },
   "outputs": [],
   "source": [
    "round(df_train1['category'].value_counts()/len(df_train1.index)*100,2)"
   ]
  },
  {
   "cell_type": "code",
   "execution_count": null,
   "metadata": {
    "colab": {
     "base_uri": "https://localhost:8080/"
    },
    "id": "1_6t_7clJIPB",
    "outputId": "5992fb58-c106-415a-d065-caca5de410f8"
   },
   "outputs": [],
   "source": [
    "round(df_train1['gender'].value_counts()/len(df_train1.index)*100,2)"
   ]
  },
  {
   "cell_type": "code",
   "execution_count": null,
   "metadata": {
    "colab": {
     "base_uri": "https://localhost:8080/"
    },
    "id": "O9GL1a8XJSGe",
    "outputId": "01698014-c690-449d-c810-dd0b30540084"
   },
   "outputs": [],
   "source": [
    "round(df_train1['city'].value_counts()/len(df_train1.index)*100,2)"
   ]
  },
  {
   "cell_type": "code",
   "execution_count": null,
   "metadata": {
    "colab": {
     "base_uri": "https://localhost:8080/"
    },
    "id": "55fals5YJUn2",
    "outputId": "00881bbf-83a6-4a94-de8b-7df4eb9426e3"
   },
   "outputs": [],
   "source": [
    "round(df_train1['state'].value_counts()/len(df_train1.index)*100,2)"
   ]
  },
  {
   "cell_type": "code",
   "execution_count": null,
   "metadata": {
    "colab": {
     "base_uri": "https://localhost:8080/"
    },
    "id": "hzntM4AbKuL5",
    "outputId": "2a37c23f-5e91-424d-c607-6085dd07bcb1"
   },
   "outputs": [],
   "source": [
    "round(df_train1['job'].value_counts()/len(df_train1.index)*100,2)"
   ]
  },
  {
   "cell_type": "code",
   "execution_count": null,
   "metadata": {
    "colab": {
     "base_uri": "https://localhost:8080/"
    },
    "id": "OK8BuVhBK4cf",
    "outputId": "a3999332-7fd0-4da6-9e4b-58faef6b2f57"
   },
   "outputs": [],
   "source": [
    "df_train1.info()"
   ]
  },
  {
   "cell_type": "code",
   "execution_count": null,
   "metadata": {
    "colab": {
     "base_uri": "https://localhost:8080/"
    },
    "id": "OuyqlzzCPbue",
    "outputId": "afa7afd3-db0d-47f9-f05c-b8d8dfbc517b"
   },
   "outputs": [],
   "source": [
    "df_train1.nunique()"
   ]
  },
  {
   "cell_type": "code",
   "execution_count": null,
   "metadata": {
    "colab": {
     "base_uri": "https://localhost:8080/",
     "height": 204
    },
    "id": "mTKG0l65Pmwq",
    "outputId": "e579f944-289c-4ff8-942b-ec810835f6bb"
   },
   "outputs": [],
   "source": [
    "# Dropping variables not useful for model building\n",
    "\n",
    "drop_cols = ['trans_date_trans_time','city','lat','long','job','dob','merch_lat','merch_long','trans_date']\n",
    "\n",
    "df_train2 = df_train1.drop(drop_cols,axis=1)\n",
    "df_test2 = df_test1.drop(drop_cols,axis=1)\n",
    "\n",
    "df_train2.head()"
   ]
  },
  {
   "cell_type": "code",
   "execution_count": null,
   "metadata": {
    "colab": {
     "base_uri": "https://localhost:8080/",
     "height": 204
    },
    "id": "wR68sW60QR2l",
    "outputId": "1fbbc1f4-0ecb-4337-bfea-06dccf9fd90a"
   },
   "outputs": [],
   "source": [
    "#Binary mapping on Gender\n",
    "  \n",
    "df_train2['gender'] = df_train2['gender'].map({'M': 1, 'F': 0})\n",
    "df_test2['gender'] = df_test2['gender'].map({'M': 1, 'F': 0})\n",
    "\n",
    "df_train2.head()"
   ]
  },
  {
   "cell_type": "code",
   "execution_count": null,
   "metadata": {
    "colab": {
     "base_uri": "https://localhost:8080/",
     "height": 390
    },
    "id": "oAhK9utgSU0N",
    "outputId": "9523db29-66e5-4e60-eda9-d246aa0f8408"
   },
   "outputs": [],
   "source": [
    "df_train2[['amt','city_pop','age_at_trans','lat_dist','long_dist']].describe(percentiles=[.25, .5, .75, .90, .95, .99])"
   ]
  },
  {
   "cell_type": "code",
   "execution_count": null,
   "metadata": {
    "colab": {
     "base_uri": "https://localhost:8080/"
    },
    "id": "8LtD6_X2UqXE",
    "outputId": "e884e9d2-ec10-4673-acb9-715ea41fa820"
   },
   "outputs": [],
   "source": [
    "# Creating dummy variables for Category\n",
    "\n",
    "df_train3 = pd.get_dummies(df_train2,columns=['category'],drop_first=True)\n",
    "df_test3 = pd.get_dummies(df_test2,columns=['category'],drop_first=True)\n",
    "\n",
    "df_train3.info()"
   ]
  },
  {
   "cell_type": "markdown",
   "metadata": {
    "id": "q3BZSp7DYqo4"
   },
   "source": [
    "#### Building Model"
   ]
  },
  {
   "cell_type": "code",
   "execution_count": null,
   "metadata": {
    "colab": {
     "base_uri": "https://localhost:8080/"
    },
    "id": "Of8-UEbTY_c8",
    "outputId": "ee50f49e-fb2f-48ab-fef3-86debae99145"
   },
   "outputs": [],
   "source": [
    "# Dropping State\n",
    "\n",
    "df_train4 = df_train3.drop('state',axis=1)\n",
    "df_test4 = df_test3.drop('state',axis=1)\n",
    "df_train4.info()"
   ]
  },
  {
   "cell_type": "code",
   "execution_count": null,
   "metadata": {
    "id": "O5_E4rcGZYJd"
   },
   "outputs": [],
   "source": [
    "# Splitting train and test dataset into X and y\n",
    "\n",
    "X_train = df_train4.drop(['is_fraud'],axis=1)\n",
    "y_train = df_train4['is_fraud']\n",
    "\n",
    "X_test = df_test4.drop(['is_fraud'],axis=1)\n",
    "y_test = df_test4['is_fraud']"
   ]
  },
  {
   "cell_type": "markdown",
   "metadata": {
    "id": "GI6T0xIno4pr"
   },
   "source": [
    "#### Oversampling data to compensate for the high class imbalance in the data"
   ]
  },
  {
   "cell_type": "code",
   "execution_count": null,
   "metadata": {
    "colab": {
     "base_uri": "https://localhost:8080/"
    },
    "id": "jpAbepY8pBUx",
    "outputId": "128c0226-f285-4b27-82b9-86f4f5c731d7"
   },
   "outputs": [],
   "source": [
    "# Using ADASYN to oversample\n",
    "\n",
    "from imblearn.over_sampling import ADASYN\n",
    "X_train_res, y_train_res = ADASYN().fit_resample(X_train, y_train)\n",
    "\n",
    "from collections import Counter\n",
    "print(sorted(Counter(y_train_res).items()))"
   ]
  },
  {
   "cell_type": "markdown",
   "metadata": {
    "id": "Si2e7J5ObDhi"
   },
   "source": [
    "##### Building a Random Forest Model"
   ]
  },
  {
   "cell_type": "code",
   "execution_count": null,
   "metadata": {
    "id": "LaXYT3icbKvI"
   },
   "outputs": [],
   "source": [
    "# Importing required library\n",
    "\n",
    "from sklearn.ensemble import RandomForestClassifier\n",
    "from sklearn.metrics import roc_curve, auc, classification_report\n",
    "from sklearn.model_selection import GridSearchCV\n"
   ]
  },
  {
   "cell_type": "code",
   "execution_count": null,
   "metadata": {
    "id": "dmVxgMcgbTu_"
   },
   "outputs": [],
   "source": [
    "rf = RandomForestClassifier(n_estimators=10, max_depth=5, max_features=12, min_samples_leaf=100, random_state=100, oob_score=True)"
   ]
  },
  {
   "cell_type": "code",
   "execution_count": null,
   "metadata": {
    "colab": {
     "base_uri": "https://localhost:8080/"
    },
    "id": "TzRQN-OrbZ-n",
    "outputId": "44e6d429-bc2e-4de0-ea3c-ffe69a3ebeb8"
   },
   "outputs": [],
   "source": [
    "rf.fit(X_train_res, y_train_res)"
   ]
  },
  {
   "cell_type": "code",
   "execution_count": null,
   "metadata": {
    "colab": {
     "base_uri": "https://localhost:8080/"
    },
    "id": "XjVqWqNKbcyg",
    "outputId": "bf9df007-1fb6-4da3-a970-8d97fb67eaf1"
   },
   "outputs": [],
   "source": [
    "rf.oob_score_"
   ]
  },
  {
   "cell_type": "code",
   "execution_count": null,
   "metadata": {
    "colab": {
     "base_uri": "https://localhost:8080/",
     "height": 279
    },
    "id": "K1v2b85_bj_O",
    "outputId": "e6035502-64c8-4c58-807c-532b606a1efa"
   },
   "outputs": [],
   "source": [
    "# Predict probabilities\n",
    "y_train_prob = rf.predict_proba(X_train_res)[:, 1]\n"
   ]
  },
  {
   "cell_type": "code",
   "execution_count": null,
   "metadata": {
    "id": "QgKwuI_6NxKW"
   },
   "outputs": [],
   "source": [
    "# Compute ROC curve and ROC area\n",
    "fpr, tpr, _ = roc_curve(y_train_res, y_train_prob)\n",
    "roc_auc = auc(fpr, tpr)"
   ]
  },
  {
   "cell_type": "code",
   "execution_count": null,
   "metadata": {
    "colab": {
     "base_uri": "https://localhost:8080/",
     "height": 669
    },
    "id": "FPIj6qaKPRAv",
    "outputId": "7b49d578-8f32-4c4e-e68d-7a917ed2013c"
   },
   "outputs": [],
   "source": [
    "# Plotting ROC curve\n",
    "plt.figure()\n",
    "plt.plot(fpr, tpr, color='darkorange', lw=2, label='ROC curve (area = %0.2f)' % roc_auc)\n",
    "plt.plot([0, 1], [0, 1], color='navy', lw=2, linestyle='--')\n",
    "plt.xlim([0.0, 1.0])\n",
    "plt.ylim([0.0, 1.05])\n",
    "plt.xlabel('False Positive Rate')\n",
    "plt.ylabel('True Positive Rate')\n",
    "plt.title('Receiver Operating Characteristic')\n",
    "plt.legend(loc=\"lower right\")\n",
    "plt.show()"
   ]
  },
  {
   "cell_type": "code",
   "execution_count": null,
   "metadata": {
    "colab": {
     "base_uri": "https://localhost:8080/"
    },
    "id": "uRB0tiPYNAGX",
    "outputId": "a0f29be0-8cd4-43de-f329-08cb5443c491"
   },
   "outputs": [],
   "source": [
    "y_train_pred = rf.predict(X_train_res)\n",
    "y_train_pred[:10]"
   ]
  },
  {
   "cell_type": "code",
   "execution_count": null,
   "metadata": {
    "colab": {
     "base_uri": "https://localhost:8080/"
    },
    "id": "6UVcGIVjNAVR",
    "outputId": "9638aa6d-49b7-4063-ddbd-10761689ff32"
   },
   "outputs": [],
   "source": [
    "from sklearn.metrics import classification_report\n",
    "print(classification_report(y_train_res, y_train_pred))"
   ]
  },
  {
   "cell_type": "markdown",
   "metadata": {
    "id": "6t9F64mqSGwq"
   },
   "source": [
    "#### Predicting on test set"
   ]
  },
  {
   "cell_type": "code",
   "execution_count": null,
   "metadata": {
    "colab": {
     "base_uri": "https://localhost:8080/"
    },
    "id": "NP8PIunJNAeB",
    "outputId": "05120937-7d49-4416-e616-1963163d047f"
   },
   "outputs": [],
   "source": [
    "y_test_pred = rf.predict(X_test)\n",
    "y_test_pred[:10]"
   ]
  },
  {
   "cell_type": "code",
   "execution_count": null,
   "metadata": {
    "colab": {
     "base_uri": "https://localhost:8080/"
    },
    "id": "RkaWkR6USBIt",
    "outputId": "16285176-50c5-4125-9751-a15aef7ceac8"
   },
   "outputs": [],
   "source": [
    "print(classification_report(y_test, y_test_pred))"
   ]
  },
  {
   "cell_type": "markdown",
   "metadata": {
    "id": "PtDliZuDYbAr"
   },
   "source": [
    "#### Testing model on original data without oversampling"
   ]
  },
  {
   "cell_type": "code",
   "execution_count": null,
   "metadata": {
    "colab": {
     "base_uri": "https://localhost:8080/"
    },
    "id": "0DNLGbNHNAoo",
    "outputId": "ced9b24b-83c4-4644-db46-3efe74d2feac"
   },
   "outputs": [],
   "source": [
    "y_train_pred = rf.predict(X_train)\n",
    "y_test_pred = rf.predict(X_test)\n",
    "\n",
    "print(classification_report(y_train, y_train_pred))\n",
    "print(classification_report(y_test, y_test_pred))"
   ]
  },
  {
   "cell_type": "code",
   "execution_count": null,
   "metadata": {
    "colab": {
     "base_uri": "https://localhost:8080/"
    },
    "id": "c8iLXhhgZund",
    "outputId": "c3ac1f5e-40eb-4d88-e112-ad30c059086f"
   },
   "outputs": [],
   "source": [
    "df_train.nunique()"
   ]
  },
  {
   "cell_type": "code",
   "execution_count": null,
   "metadata": {
    "colab": {
     "base_uri": "https://localhost:8080/"
    },
    "id": "5m2RJ2MUiENZ",
    "outputId": "9bf694e2-b419-4bb0-80ed-46085127ac04"
   },
   "outputs": [],
   "source": [
    "df_train.shape"
   ]
  },
  {
   "cell_type": "code",
   "execution_count": null,
   "metadata": {
    "colab": {
     "base_uri": "https://localhost:8080/",
     "height": 204
    },
    "id": "VgW8LhbRiPgq",
    "outputId": "a6083c84-2934-4fa4-8b24-3410e868747d"
   },
   "outputs": [],
   "source": [
    "# Subset of df_train\n",
    "\n",
    "df_train_merge = df_train[['trans_date_trans_time','amt','trans_num','is_fraud']]\n",
    "df_train_merge.head()"
   ]
  },
  {
   "cell_type": "code",
   "execution_count": null,
   "metadata": {
    "colab": {
     "base_uri": "https://localhost:8080/",
     "height": 204
    },
    "id": "YGnNHOtZn_Hb",
    "outputId": "208ef37e-72e5-4f15-8da3-2e561f20f5d4"
   },
   "outputs": [],
   "source": [
    "# Creating dataframe of y_train_pred\n",
    "\n",
    "df_train_pred = pd.DataFrame(y_train_pred)\n",
    "df_train_pred.head()"
   ]
  },
  {
   "cell_type": "code",
   "execution_count": null,
   "metadata": {
    "colab": {
     "base_uri": "https://localhost:8080/",
     "height": 204
    },
    "id": "zLdg6fN7nwj1",
    "outputId": "8a19dbc1-ca1c-45f3-dbe7-b81718d843cc"
   },
   "outputs": [],
   "source": [
    "# Merging the two dataframes\n",
    "\n",
    "df_train_final = pd.concat([df_train_merge, df_train_pred],axis=1)\n",
    "df_train_final.head()"
   ]
  },
  {
   "cell_type": "code",
   "execution_count": null,
   "metadata": {
    "colab": {
     "base_uri": "https://localhost:8080/",
     "height": 204
    },
    "id": "WWHUqtono8YN",
    "outputId": "c00fc3e6-439b-4c17-a66d-e4368a97cedf"
   },
   "outputs": [],
   "source": [
    "# Renaming column\n",
    "\n",
    "df_train_final= df_train_final.rename(columns={ 0 : 'is_fraud_pred'})\n",
    "df_train_final.head()"
   ]
  },
  {
   "cell_type": "code",
   "execution_count": null,
   "metadata": {
    "colab": {
     "base_uri": "https://localhost:8080/"
    },
    "id": "gEN2gHA-pONY",
    "outputId": "c231942d-1279-4253-afb2-5eb7db81dc52"
   },
   "outputs": [],
   "source": [
    "df_train_final.groupby('is_fraud')['is_fraud'].count()"
   ]
  },
  {
   "cell_type": "code",
   "execution_count": null,
   "metadata": {
    "colab": {
     "base_uri": "https://localhost:8080/"
    },
    "id": "MnLbx8xxpf90",
    "outputId": "b4be3d2a-2804-412e-e794-f96b30fc8b3f"
   },
   "outputs": [],
   "source": [
    "df_train_final.groupby('is_fraud_pred')['is_fraud_pred'].count()"
   ]
  },
  {
   "cell_type": "code",
   "execution_count": null,
   "metadata": {
    "colab": {
     "base_uri": "https://localhost:8080/",
     "height": 204
    },
    "id": "6pbZ5wILqR66",
    "outputId": "ddbbd0e5-5c48-4137-942c-9fe5af360f3f"
   },
   "outputs": [],
   "source": [
    "# Subset of df_test\n",
    "\n",
    "df_test_merge = df_test[['trans_date_trans_time','amt','trans_num','is_fraud']]\n",
    "df_test_merge.head()"
   ]
  },
  {
   "cell_type": "code",
   "execution_count": null,
   "metadata": {
    "colab": {
     "base_uri": "https://localhost:8080/",
     "height": 204
    },
    "id": "-BnawlMnqrZT",
    "outputId": "94f1cfad-87ec-43f0-fb27-3dad8eeabd0b"
   },
   "outputs": [],
   "source": [
    "# Creating dataframe of y_test_pred\n",
    "\n",
    "df_test_pred = pd.DataFrame(y_test_pred)\n",
    "df_test_pred.head()"
   ]
  },
  {
   "cell_type": "code",
   "execution_count": null,
   "metadata": {
    "colab": {
     "base_uri": "https://localhost:8080/",
     "height": 204
    },
    "id": "OiOO4BQ_qz2s",
    "outputId": "b4427155-5a0c-4b15-8836-56eff6aa287f"
   },
   "outputs": [],
   "source": [
    " # Merging the two dataframes\n",
    "\n",
    "df_test_final = pd.concat([df_test_merge, df_test_pred],axis=1)\n",
    "df_test_final.head()"
   ]
  },
  {
   "cell_type": "code",
   "execution_count": null,
   "metadata": {
    "colab": {
     "base_uri": "https://localhost:8080/",
     "height": 204
    },
    "id": "V_BEVydcq9ya",
    "outputId": "68111a94-4310-4227-84f0-bbcce20093e1"
   },
   "outputs": [],
   "source": [
    "# Renaming column\n",
    "\n",
    "df_test_final= df_test_final.rename(columns={ 0 : 'is_fraud_pred'})\n",
    "df_test_final.head()"
   ]
  },
  {
   "cell_type": "code",
   "execution_count": null,
   "metadata": {
    "colab": {
     "base_uri": "https://localhost:8080/"
    },
    "id": "q0ayc37crFbh",
    "outputId": "0c112228-cad1-4c7e-bbaf-a5a3dc2509fd"
   },
   "outputs": [],
   "source": [
    "df_test_final.groupby('is_fraud')['is_fraud'].count()"
   ]
  },
  {
   "cell_type": "code",
   "execution_count": null,
   "metadata": {
    "colab": {
     "base_uri": "https://localhost:8080/"
    },
    "id": "fQuk3RsnrKk4",
    "outputId": "093c49b0-a5bd-4162-9a2a-56483cae401e"
   },
   "outputs": [],
   "source": [
    "df_test_final.groupby('is_fraud_pred')['is_fraud_pred'].count()"
   ]
  },
  {
   "cell_type": "code",
   "execution_count": null,
   "metadata": {
    "colab": {
     "base_uri": "https://localhost:8080/",
     "height": 204
    },
    "id": "1UH3RZ-SrLa5",
    "outputId": "774f03f4-1950-44d9-b5c1-101cf5fb51f3"
   },
   "outputs": [],
   "source": [
    "# Merging train and test dataset for cost benefit analysis\n",
    "\n",
    "df_merge_final = pd.concat([df_train_final, df_test_final],axis=0)\n",
    "df_merge_final.head()"
   ]
  },
  {
   "cell_type": "code",
   "execution_count": null,
   "metadata": {
    "colab": {
     "base_uri": "https://localhost:8080/"
    },
    "id": "1NP3ZCwwrqDA",
    "outputId": "325e9a5b-a03c-4fdc-a9a3-0284ec8352c7"
   },
   "outputs": [],
   "source": [
    "df_merge_final.shape"
   ]
  },
  {
   "cell_type": "markdown",
   "metadata": {
    "id": "CdkLEB8XsuaN"
   },
   "source": [
    "### Cost Benefit Analysis"
   ]
  },
  {
   "cell_type": "code",
   "execution_count": null,
   "metadata": {
    "colab": {
     "base_uri": "https://localhost:8080/",
     "height": 204
    },
    "id": "q2LtlShHrtVw",
    "outputId": "299e3db0-c20a-4244-90ea-fa131eb252d6"
   },
   "outputs": [],
   "source": [
    "# Creating month and year columns\n",
    "\n",
    "df_merge_final['month'] = pd.DatetimeIndex(df_merge_final['trans_date_trans_time']).month\n",
    "df_merge_final['year'] = pd.DatetimeIndex(df_merge_final['trans_date_trans_time']).year\n",
    "df_merge_final.head()"
   ]
  },
  {
   "cell_type": "code",
   "execution_count": null,
   "metadata": {
    "id": "IRI_mSc_u18G"
   },
   "outputs": [],
   "source": [
    "# Group by variable creation\n",
    "\n",
    "g = df_merge_final.groupby([\"year\",\"month\"])"
   ]
  },
  {
   "cell_type": "code",
   "execution_count": null,
   "metadata": {
    "colab": {
     "base_uri": "https://localhost:8080/"
    },
    "id": "5KNIFDiHvYBS",
    "outputId": "654a8728-917e-406e-b4a5-c896247adc3b"
   },
   "outputs": [],
   "source": [
    "# Number of transactions per month\n",
    "\n",
    "g.trans_num.count()"
   ]
  },
  {
   "cell_type": "code",
   "execution_count": null,
   "metadata": {
    "colab": {
     "base_uri": "https://localhost:8080/"
    },
    "id": "2MeOouecv6px",
    "outputId": "2c325a39-9b4a-41d5-b0b2-b9ccab7655b0"
   },
   "outputs": [],
   "source": [
    "# Average number of transactions per month\n",
    "\n",
    "df_merge_final.trans_num.count()/24"
   ]
  },
  {
   "cell_type": "code",
   "execution_count": null,
   "metadata": {
    "colab": {
     "base_uri": "https://localhost:8080/"
    },
    "id": "nNOVThaSwjt3",
    "outputId": "9824f014-2ca4-4df0-f8c3-f525118ae629"
   },
   "outputs": [],
   "source": [
    "# Average Number of fraudulent transactions per month\n",
    "\n",
    "df_merge_final[df_merge_final['is_fraud']==1].trans_num.count()/24"
   ]
  },
  {
   "cell_type": "code",
   "execution_count": null,
   "metadata": {
    "colab": {
     "base_uri": "https://localhost:8080/"
    },
    "id": "gkW9UjWPxCP-",
    "outputId": "9580d200-a5e7-47c3-fc81-be3222f5361a"
   },
   "outputs": [],
   "source": [
    "# Average amount per fraud transaction\n",
    "\n",
    "df_merge_final[df_merge_final['is_fraud']==1].amt.mean()"
   ]
  },
  {
   "cell_type": "code",
   "execution_count": null,
   "metadata": {
    "colab": {
     "base_uri": "https://localhost:8080/"
    },
    "id": "ixA0arM7yDTF",
    "outputId": "0320680c-c40f-4fc3-c9c1-073ed88abc85"
   },
   "outputs": [],
   "source": [
    "# Average number of transactions per month detected as fraud by the model\n",
    "\n",
    "df_merge_final[df_merge_final['is_fraud_pred']==1].trans_num.count()/24"
   ]
  },
  {
   "cell_type": "code",
   "execution_count": null,
   "metadata": {
    "colab": {
     "base_uri": "https://localhost:8080/"
    },
    "id": "IAJgVjH4yjxD",
    "outputId": "8fc6eb78-7ac8-4fd4-c206-b5730893419f"
   },
   "outputs": [],
   "source": [
    "# Average number of transactions per month that are fraudulent but are not detected by the model\n",
    "\n",
    "Undetected_frauds = df_merge_final.loc[(df_merge_final.is_fraud_pred==0) & (df_merge_final.is_fraud==1)]\n",
    "Undetected_frauds.trans_num.count()/24"
   ]
  },
  {
   "cell_type": "code",
   "execution_count": null,
   "metadata": {
    "id": "xCrSc9cg0WGQ"
   },
   "outputs": [],
   "source": []
  }
 ],
 "metadata": {
  "colab": {
   "collapsed_sections": [],
   "name": "Fraud Analytics Capstone.ipynb",
   "provenance": []
  },
  "kernelspec": {
   "display_name": "Python 3 (ipykernel)",
   "language": "python",
   "name": "python3"
  },
  "language_info": {
   "codemirror_mode": {
    "name": "ipython",
    "version": 3
   },
   "file_extension": ".py",
   "mimetype": "text/x-python",
   "name": "python",
   "nbconvert_exporter": "python",
   "pygments_lexer": "ipython3",
   "version": "3.11.4"
  }
 },
 "nbformat": 4,
 "nbformat_minor": 4
}
